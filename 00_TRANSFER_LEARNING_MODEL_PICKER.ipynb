{
 "cells": [
  {
   "cell_type": "code",
   "execution_count": 32,
   "metadata": {},
   "outputs": [],
   "source": [
    "import numpy as np\n",
    "import pandas as pd\n",
    "import tensorflow as tf\n",
    "from tensorflow.keras.preprocessing.image import ImageDataGenerator\n",
    "from tensorflow.keras.models import Model\n",
    "from tensorflow.keras.layers import Input, Flatten, Dense, Dropout, GlobalAveragePooling2D\n",
    "from tensorflow.keras.applications.mobilenet import MobileNet, preprocess_input\n",
    "import math\n",
    "import os\n",
    "import gc\n",
    "import matplotlib.pyplot as plt"
   ]
  },
  {
   "cell_type": "code",
   "execution_count": 5,
   "metadata": {},
   "outputs": [],
   "source": [
    "from tensorflow.keras.applications.resnet50 import ResNet50, preprocess_input\n",
    "from tensorflow.keras.applications.vgg16 import VGG16\n",
    "from tensorflow.keras.applications.vgg19 import VGG19\n",
    "from tensorflow.keras.applications.mobilenet import MobileNet\n",
    "from tensorflow.keras.applications.inception_v3 import InceptionV3\n",
    "\n",
    "def model_picker(name, IMG_WIDTH, IMG_HEIGHT):\n",
    "    if (name == 'vgg16'):\n",
    "        model = VGG16(weights='imagenet',\n",
    "                      include_top=False,\n",
    "                      input_shape=(IMG_WIDTH, IMG_HEIGHT, 3)\n",
    "                 #     pooling='max')\n",
    "                     )\n",
    "    elif (name == 'vgg19'):\n",
    "        model = VGG19(weights='imagenet',\n",
    "                      include_top=False,\n",
    "                      input_shape=(IMG_WIDTH, IMG_HEIGHT, 3)\n",
    "#                      pooling='max')\n",
    "                     )\n",
    "    elif (name == 'mobilenet'):\n",
    "        model = MobileNet(weights='imagenet',\n",
    "                          include_top=False,\n",
    "                          input_shape=(IMG_WIDTH, IMG_HEIGHT, 3),\n",
    "                          depth_multiplier=1,\n",
    "                          alpha=1)\n",
    "    elif (name == 'inception'):\n",
    "        model = InceptionV3(weights='imagenet',\n",
    "                            include_top=False,\n",
    "                            input_shape=(IMG_WIDTH, IMG_HEIGHT, 3)\n",
    " #                           pooling='max')\n",
    "                           )\n",
    "    elif (name == 'resnet'):\n",
    "        model = ResNet50(weights='imagenet',\n",
    "                         include_top=False,\n",
    "                         input_shape=(IMG_WIDTH, IMG_HEIGHT, 3)\n",
    "#                        pooling='max')\n",
    "                        )\n",
    "    elif (name == 'xception'):\n",
    "        model = Xception(weights='imagenet',\n",
    "                         include_top=False,\n",
    "                         input_shape=(IMG_WIDTH, IMG_HEIGHT, 3)\n",
    "#                         pooling='max')\n",
    "                        )\n",
    "    else:\n",
    "        print(\"Specified model not available\")\n",
    "    return model"
   ]
  },
  {
   "cell_type": "markdown",
   "metadata": {},
   "source": [
    "# LOADING DATA"
   ]
  },
  {
   "cell_type": "code",
   "execution_count": 6,
   "metadata": {},
   "outputs": [],
   "source": [
    "foldernames = os.listdir('data/oregon_wildlife/')\n",
    "categories = []\n",
    "files = []\n",
    "\n",
    "for k, folder in enumerate(foldernames):\n",
    "    filenames = os.listdir(\"data/oregon_wildlife/\" + folder);\n",
    "    for file in filenames:\n",
    "        files.append(\"data/oregon_wildlife/\" + folder + \"/\" + file)\n",
    "        categories.append(folder)\n",
    "        \n",
    "df = pd.DataFrame({\n",
    "    'filename': files,\n",
    "    'category': categories})"
   ]
  },
  {
   "cell_type": "code",
   "execution_count": 7,
   "metadata": {},
   "outputs": [
    {
     "data": {
      "text/html": [
       "<div>\n",
       "<style scoped>\n",
       "    .dataframe tbody tr th:only-of-type {\n",
       "        vertical-align: middle;\n",
       "    }\n",
       "\n",
       "    .dataframe tbody tr th {\n",
       "        vertical-align: top;\n",
       "    }\n",
       "\n",
       "    .dataframe thead th {\n",
       "        text-align: right;\n",
       "    }\n",
       "</style>\n",
       "<table border=\"1\" class=\"dataframe\">\n",
       "  <thead>\n",
       "    <tr style=\"text-align: right;\">\n",
       "      <th></th>\n",
       "      <th>filename</th>\n",
       "      <th>category</th>\n",
       "    </tr>\n",
       "  </thead>\n",
       "  <tbody>\n",
       "    <tr>\n",
       "      <th>0</th>\n",
       "      <td>data/oregon_wildlife/virginia_opossum/c99846c4...</td>\n",
       "      <td>virginia_opossum</td>\n",
       "    </tr>\n",
       "    <tr>\n",
       "      <th>1</th>\n",
       "      <td>data/oregon_wildlife/virginia_opossum/830d9a49...</td>\n",
       "      <td>virginia_opossum</td>\n",
       "    </tr>\n",
       "    <tr>\n",
       "      <th>2</th>\n",
       "      <td>data/oregon_wildlife/virginia_opossum/856064da...</td>\n",
       "      <td>virginia_opossum</td>\n",
       "    </tr>\n",
       "    <tr>\n",
       "      <th>3</th>\n",
       "      <td>data/oregon_wildlife/virginia_opossum/6fa22e11...</td>\n",
       "      <td>virginia_opossum</td>\n",
       "    </tr>\n",
       "    <tr>\n",
       "      <th>4</th>\n",
       "      <td>data/oregon_wildlife/virginia_opossum/a6ca09de...</td>\n",
       "      <td>virginia_opossum</td>\n",
       "    </tr>\n",
       "  </tbody>\n",
       "</table>\n",
       "</div>"
      ],
      "text/plain": [
       "                                            filename          category\n",
       "0  data/oregon_wildlife/virginia_opossum/c99846c4...  virginia_opossum\n",
       "1  data/oregon_wildlife/virginia_opossum/830d9a49...  virginia_opossum\n",
       "2  data/oregon_wildlife/virginia_opossum/856064da...  virginia_opossum\n",
       "3  data/oregon_wildlife/virginia_opossum/6fa22e11...  virginia_opossum\n",
       "4  data/oregon_wildlife/virginia_opossum/a6ca09de...  virginia_opossum"
      ]
     },
     "execution_count": 7,
     "metadata": {},
     "output_type": "execute_result"
    }
   ],
   "source": [
    "df.head()"
   ]
  },
  {
   "cell_type": "markdown",
   "metadata": {},
   "source": [
    "# AUGMENTING DATA\n",
    "\n",
    "Here we use the Keras ImageDataGenerator to augment the data"
   ]
  },
  {
   "cell_type": "code",
   "execution_count": 8,
   "metadata": {},
   "outputs": [],
   "source": [
    "from sklearn.model_selection import train_test_split\n",
    "\n",
    "train_dataframe, val_dataframe = train_test_split(df, test_size=0.33, random_state=42, stratify=df['category'])"
   ]
  },
  {
   "cell_type": "code",
   "execution_count": 9,
   "metadata": {},
   "outputs": [],
   "source": [
    "train_datagen = ImageDataGenerator(preprocessing_function=preprocess_input,\n",
    "                                   rotation_range=20,\n",
    "                                   width_shift_range=0.2,\n",
    "                                   height_shift_range=0.2,\n",
    "                                   zoom_range=0.2,\n",
    "                                   validation_split = 0.3)\n",
    "val_datagen = ImageDataGenerator(preprocessing_function=preprocess_input)"
   ]
  },
  {
   "cell_type": "markdown",
   "metadata": {},
   "source": [
    "note: you can also do this with flow_from_directory so that extracting path names into a dataframe is not necessary"
   ]
  },
  {
   "cell_type": "code",
   "execution_count": 10,
   "metadata": {},
   "outputs": [
    {
     "name": "stdout",
     "output_type": "stream",
     "text": [
      "Found 9346 validated image filenames belonging to 20 classes.\n",
      "Found 4608 validated image filenames belonging to 20 classes.\n"
     ]
    },
    {
     "name": "stderr",
     "output_type": "stream",
     "text": [
      "/Users/alex.nim@ibm.com/opt/anaconda3/lib/python3.7/site-packages/keras_preprocessing/image/dataframe_iterator.py:273: UserWarning: Found 42 invalid image filename(s) in x_col=\"filename\". These filename(s) will be ignored.\n",
      "  .format(n_invalid, x_col)\n",
      "/Users/alex.nim@ibm.com/opt/anaconda3/lib/python3.7/site-packages/keras_preprocessing/image/dataframe_iterator.py:273: UserWarning: Found 17 invalid image filename(s) in x_col=\"filename\". These filename(s) will be ignored.\n",
      "  .format(n_invalid, x_col)\n"
     ]
    }
   ],
   "source": [
    "IMG_WIDTH, IMG_HEIGHT = 224, 224\n",
    "BATCH_SIZE = 64\n",
    "\n",
    "train_generator = train_datagen.flow_from_dataframe(dataframe=train_dataframe,\n",
    "                                                    directory = None,\n",
    "                                                    x_col='filename',\n",
    "                                                    y_col='category',\n",
    "                                                    target_size=(IMG_WIDTH, IMG_HEIGHT),\n",
    "                                                    batch_size=BATCH_SIZE,\n",
    "                                                    shuffle=True,\n",
    "                                                    seed=42,\n",
    "                                                    class_mode='categorical')\n",
    "validation_generator = val_datagen.flow_from_dataframe(dataframe=val_dataframe,\n",
    "                                                    directory = None,\n",
    "                                                    x_col='filename',\n",
    "                                                    y_col='category',\n",
    "                                                    target_size=(IMG_WIDTH, IMG_HEIGHT),\n",
    "                                                    batch_size=BATCH_SIZE,\n",
    "                                                    shuffle=False,\n",
    "                                                    class_mode='categorical')"
   ]
  },
  {
   "cell_type": "markdown",
   "metadata": {},
   "source": [
    "# DEFINE THE MODEL"
   ]
  },
  {
   "cell_type": "code",
   "execution_count": 41,
   "metadata": {},
   "outputs": [],
   "source": [
    "def model_maker(MODEL_NAME, IMG_WIDTH, IMG_HEIGHT, NUM_CLASSES):\n",
    "    from keras.applications.vgg16 import VGG16\n",
    "#    base_model = MobileNet(include_top=False,\n",
    " #                          input_shape=(IMG_WIDTH, IMG_HEIGHT, 3))\n",
    "#    base_model = VGG16(include_top=False,\n",
    "#                      input_shape=(IMG_WIDTH, IMG_HEIGHT, 3),\n",
    "#                        weights='imagenet',\n",
    "#                        classes = 20)\n",
    "\n",
    "    base_model = model_picker(MODEL_NAME, IMG_WIDTH, IMG_HEIGHT)\n",
    "    for layer in base_model.layers[:]:\n",
    "        layer.trainable = False\n",
    "\n",
    "    input = Input(shape=(IMG_WIDTH, IMG_HEIGHT, 3))\n",
    "    custom_model = base_model(input)\n",
    "    custom_model = GlobalAveragePooling2D()(custom_model)\n",
    "    custom_model = Dense(64, activation='relu')(custom_model)\n",
    "    custom_model = Dropout(0.5)(custom_model)\n",
    "    predictions = Dense(NUM_CLASSES, activation='softmax')(custom_model)\n",
    "    return Model(inputs=input, outputs=predictions)"
   ]
  },
  {
   "cell_type": "markdown",
   "metadata": {},
   "source": [
    "### Model variables"
   ]
  },
  {
   "cell_type": "code",
   "execution_count": 42,
   "metadata": {},
   "outputs": [],
   "source": [
    "NUM_CLASSES = len(df['category'].unique())\n",
    "TRAIN_SAMPLES = 500\n",
    "VALIDATION_SAMPLES = 500\n",
    "MODEL_NAME = 'vgg16'\n",
    "EPOCHS = 10"
   ]
  },
  {
   "cell_type": "markdown",
   "metadata": {},
   "source": [
    "### Run Model"
   ]
  },
  {
   "cell_type": "code",
   "execution_count": 45,
   "metadata": {},
   "outputs": [
    {
     "name": "stderr",
     "output_type": "stream",
     "text": [
      "W0505 11:10:53.063668 4718255552 data_adapter.py:1091] sample_weight modes were coerced from\n",
      "  ...\n",
      "    to  \n",
      "  ['...']\n",
      "W0505 11:10:54.473470 4718255552 data_adapter.py:1091] sample_weight modes were coerced from\n",
      "  ...\n",
      "    to  \n",
      "  ['...']\n"
     ]
    },
    {
     "name": "stdout",
     "output_type": "stream",
     "text": [
      "Train for 8 steps, validate for 8 steps\n",
      "Epoch 1/10\n",
      "7/8 [=========================>....] - ETA: 4s - loss: 3.6601 - acc: 0.0596"
     ]
    },
    {
     "name": "stderr",
     "output_type": "stream",
     "text": [
      "/Users/alex.nim@ibm.com/opt/anaconda3/lib/python3.7/site-packages/PIL/Image.py:968: UserWarning: Palette images with Transparency   expressed in bytes should be converted to RGBA images\n",
      "  ' expressed in bytes should be converted ' +\n"
     ]
    },
    {
     "name": "stdout",
     "output_type": "stream",
     "text": [
      "8/8 [==============================] - 78s 10s/step - loss: 3.5796 - acc: 0.0622 - val_loss: 3.0691 - val_acc: 0.0449\n",
      "Epoch 2/10\n",
      "8/8 [==============================] - 88s 11s/step - loss: 3.1051 - acc: 0.0527 - val_loss: 3.0092 - val_acc: 0.0742\n",
      "Epoch 3/10\n",
      "8/8 [==============================] - 96s 12s/step - loss: 3.0551 - acc: 0.0566 - val_loss: 2.9728 - val_acc: 0.0879\n",
      "Epoch 4/10\n",
      "8/8 [==============================] - 93s 12s/step - loss: 2.9778 - acc: 0.0645 - val_loss: 2.9478 - val_acc: 0.1113\n",
      "Epoch 5/10\n",
      "8/8 [==============================] - 95s 12s/step - loss: 2.9759 - acc: 0.0879 - val_loss: 2.9293 - val_acc: 0.1309\n",
      "Epoch 6/10\n",
      "8/8 [==============================] - 97s 12s/step - loss: 2.9463 - acc: 0.0977 - val_loss: 2.9022 - val_acc: 0.1465\n",
      "Epoch 7/10\n",
      "8/8 [==============================] - 96s 12s/step - loss: 2.9300 - acc: 0.1094 - val_loss: 2.8816 - val_acc: 0.1719\n",
      "Epoch 8/10\n",
      "8/8 [==============================] - 97s 12s/step - loss: 2.9209 - acc: 0.1055 - val_loss: 2.8595 - val_acc: 0.2070\n",
      "Epoch 9/10\n",
      "8/8 [==============================] - 96s 12s/step - loss: 2.8765 - acc: 0.1230 - val_loss: 2.8360 - val_acc: 0.2285\n",
      "Epoch 10/10\n",
      "8/8 [==============================] - 100s 12s/step - loss: 2.8619 - acc: 0.1152 - val_loss: 2.8098 - val_acc: 0.2129\n"
     ]
    }
   ],
   "source": [
    "model = model_maker(MODEL_NAME, IMG_WIDTH, IMG_HEIGHT, NUM_CLASSES)\n",
    "\n",
    "model.compile(loss='categorical_crossentropy',\n",
    "              optimizer=tf.keras.optimizers.Adam(0.001),\n",
    "              metrics=['acc'])\n",
    "\n",
    "history = model.fit_generator(\n",
    "    train_generator,\n",
    "    steps_per_epoch=math.ceil(float(TRAIN_SAMPLES) / BATCH_SIZE),\n",
    "    epochs= EPOCHS,\n",
    "    validation_data=validation_generator,\n",
    "    validation_steps=math.ceil(float(VALIDATION_SAMPLES) / BATCH_SIZE))"
   ]
  },
  {
   "cell_type": "code",
   "execution_count": 46,
   "metadata": {},
   "outputs": [
    {
     "data": {
      "image/png": "[encoded data removed]",
      "text/plain": [
       "<Figure size 576x360 with 1 Axes>"
      ]
     },
     "metadata": {
      "needs_background": "light"
     },
     "output_type": "display_data"
    }
   ],
   "source": [
    "pd.DataFrame(history.history).plot(figsize=(8, 5))\n",
    "plt.grid(True)\n",
    "plt.gca().set_ylim(0, 3.5)\n",
    "plt.show()"
   ]
  },
  {
   "cell_type": "code",
   "execution_count": 47,
   "metadata": {},
   "outputs": [],
   "source": [
    "model.save('models/'+MODEL_NAME+'_model_'+EPOCHS+'_epochs'.h5')"
   ]
  },
  {
   "cell_type": "markdown",
   "metadata": {},
   "source": [
    "# MODEL PREDICITON"
   ]
  },
  {
   "cell_type": "code",
   "execution_count": 2,
   "metadata": {},
   "outputs": [],
   "source": [
    "from tensorflow.keras.models import load_model\n",
    "from tensorflow.keras.preprocessing import image\n",
    "import numpy as np\n",
    "MODEL_NAME = 'vgg16'\n",
    "model = load_model('models/'+MODEL_NAME+'_model.h5')"
   ]
  },
  {
   "cell_type": "code",
   "execution_count": 31,
   "metadata": {
    "lines_to_next_cell": 0
   },
   "outputs": [
    {
     "data": {
      "text/plain": [
       "<matplotlib.image.AxesImage at 0x7fc0829a8e90>"
      ]
     },
     "execution_count": 31,
     "metadata": {},
     "output_type": "execute_result"
    },
    {
     "data": {
      "image/png": "[encoded data removed]",
      "text/plain": [
       "<Figure size 432x288 with 1 Axes>"
      ]
     },
     "metadata": {
      "needs_background": "light"
     },
     "output_type": "display_data"
    }
   ],
   "source": [
    "img_path = 'data/oregon_wildlife/bald_eagle/0a6bf3fa0a0d17aed4.jpg'\n",
    "img = image.load_img(img_path, target_size=(224, 224))\n",
    "\n",
    "img_array = image.img_to_array(img)\n",
    "expanded_img_array = np.expand_dims(img_array, axis=0)\n",
    "preprocessed_img = expanded_img_array / 255.  # Preprocess the image\n",
    "prediction = model.predict(preprocessed_img)\n",
    "#print(np.argmax(prediction))\n",
    "#print(validation_generator.class_indices)\n",
    "\n",
    "predicted_label = pd.DataFrame(validation_generator.class_indices.items())[0].iloc[np.argmax(prediction)]\n",
    "\n",
    "plt.figure()\n",
    "plt.title(\"Predicted Label: \"+predicted_label+'\\n',fontsize=20)\n",
    "plt.imshow(img)"
   ]
  },
  {
   "cell_type": "code",
   "execution_count": null,
   "metadata": {
    "lines_to_next_cell": 2
   },
   "outputs": [],
   "source": []
  }
 ],
 "metadata": {
  "jupytext": {
   "formats": "ipynb,py:light"
  },
  "kernelspec": {
   "display_name": "Python 3",
   "language": "python",
   "name": "python3"
  },
  "language_info": {
   "codemirror_mode": {
    "name": "ipython",
    "version": 3
   },
   "file_extension": ".py",
   "mimetype": "text/x-python",
   "name": "python",
   "nbconvert_exporter": "python",
   "pygments_lexer": "ipython3",
   "version": "3.7.4"
  }
 },
 "nbformat": 4,
 "nbformat_minor": 2
}
